{
 "cells": [
  {
   "cell_type": "markdown",
   "id": "assured-heater",
   "metadata": {},
   "source": [
    "### Analysis"
   ]
  },
  {
   "cell_type": "markdown",
   "id": "08e238e9",
   "metadata": {},
   "source": [
    "The goal is to prove how little of a role the zodiac sign compatibility plays in real life love matches."
   ]
  },
  {
   "cell_type": "markdown",
   "id": "pharmaceutical-lesson",
   "metadata": {},
   "source": [
    "We will need the following libraries:"
   ]
  },
  {
   "cell_type": "code",
   "execution_count": 153,
   "id": "00047174",
   "metadata": {},
   "outputs": [],
   "source": [
    "%%capture\n",
    "! pip install statsmodels"
   ]
  },
  {
   "cell_type": "code",
   "execution_count": 152,
   "id": "7d96c08f",
   "metadata": {},
   "outputs": [],
   "source": [
    "import numpy as np\n",
    "import seaborn as sns\n",
    "import pandas as pd\n",
    "import matplotlib.pyplot as plt\n",
    "import seaborn as sns\n",
    "from collections import Counter\n",
    "import statsmodels.formula.api as smf\n",
    "from sklearn.linear_model import LinearRegression"
   ]
  },
  {
   "cell_type": "code",
   "execution_count": 4,
   "id": "db3f6851",
   "metadata": {},
   "outputs": [],
   "source": [
    "df = pd.read_csv('../data/ready_for_analysis.csv')"
   ]
  },
  {
   "cell_type": "code",
   "execution_count": 6,
   "id": "dbd860bc",
   "metadata": {
    "scrolled": false
   },
   "outputs": [
    {
     "data": {
      "text/html": [
       "<div>\n",
       "<style scoped>\n",
       "    .dataframe tbody tr th:only-of-type {\n",
       "        vertical-align: middle;\n",
       "    }\n",
       "\n",
       "    .dataframe tbody tr th {\n",
       "        vertical-align: top;\n",
       "    }\n",
       "\n",
       "    .dataframe thead th {\n",
       "        text-align: right;\n",
       "    }\n",
       "</style>\n",
       "<table border=\"1\" class=\"dataframe\">\n",
       "  <thead>\n",
       "    <tr style=\"text-align: right;\">\n",
       "      <th></th>\n",
       "      <th>Fecha de Registro</th>\n",
       "      <th>Tipo</th>\n",
       "      <th>DOB_H</th>\n",
       "      <th>Edad_H</th>\n",
       "      <th>Job_H</th>\n",
       "      <th>DOB_M</th>\n",
       "      <th>Edad_M</th>\n",
       "      <th>Job_M</th>\n",
       "      <th>Fecha_Boda</th>\n",
       "      <th>Dur_Matrimonio</th>\n",
       "      <th>Num_Hijos</th>\n",
       "      <th>Custodia</th>\n",
       "      <th>zodiac_H</th>\n",
       "      <th>zodiac_M</th>\n",
       "      <th>Horoscope-Match</th>\n",
       "      <th>Compatibility-Rate</th>\n",
       "    </tr>\n",
       "  </thead>\n",
       "  <tbody>\n",
       "    <tr>\n",
       "      <th>0</th>\n",
       "      <td>9/6/06</td>\n",
       "      <td>Necesario</td>\n",
       "      <td>1975-12-18</td>\n",
       "      <td>30.0</td>\n",
       "      <td>PINTOR</td>\n",
       "      <td>1983-08-01</td>\n",
       "      <td>22.0</td>\n",
       "      <td>EMPLEADA</td>\n",
       "      <td>26/6/00</td>\n",
       "      <td>5.0</td>\n",
       "      <td>1.0</td>\n",
       "      <td>NaN</td>\n",
       "      <td>Sagitario</td>\n",
       "      <td>Leo</td>\n",
       "      <td>Sagitario, Leo</td>\n",
       "      <td>0.90</td>\n",
       "    </tr>\n",
       "    <tr>\n",
       "      <th>1</th>\n",
       "      <td>1/2/05</td>\n",
       "      <td>Necesario</td>\n",
       "      <td>2055-02-22</td>\n",
       "      <td>49.0</td>\n",
       "      <td>MEDICO</td>\n",
       "      <td>2047-03-21</td>\n",
       "      <td>57.0</td>\n",
       "      <td>JUBILADA</td>\n",
       "      <td>18/12/75</td>\n",
       "      <td>NaN</td>\n",
       "      <td>NaN</td>\n",
       "      <td>NaN</td>\n",
       "      <td>Piscis</td>\n",
       "      <td>Aries</td>\n",
       "      <td>Piscis, Aries</td>\n",
       "      <td>0.65</td>\n",
       "    </tr>\n",
       "    <tr>\n",
       "      <th>2</th>\n",
       "      <td>1/2/06</td>\n",
       "      <td>Necesario</td>\n",
       "      <td>1975-10-30</td>\n",
       "      <td>30.0</td>\n",
       "      <td>MEDICO</td>\n",
       "      <td>1978-10-13</td>\n",
       "      <td>27.0</td>\n",
       "      <td>AMA DE CASA</td>\n",
       "      <td>14/11/98</td>\n",
       "      <td>7.0</td>\n",
       "      <td>2.0</td>\n",
       "      <td>MADRE</td>\n",
       "      <td>Scorpio</td>\n",
       "      <td>Libra</td>\n",
       "      <td>Scorpio, Libra</td>\n",
       "      <td>0.50</td>\n",
       "    </tr>\n",
       "    <tr>\n",
       "      <th>3</th>\n",
       "      <td>1/2/06</td>\n",
       "      <td>Necesario</td>\n",
       "      <td>1973-03-28</td>\n",
       "      <td>32.0</td>\n",
       "      <td>EMPLEADO</td>\n",
       "      <td>1976-06-14</td>\n",
       "      <td>29.0</td>\n",
       "      <td>NaN</td>\n",
       "      <td>20/1/95</td>\n",
       "      <td>11.0</td>\n",
       "      <td>2.0</td>\n",
       "      <td>MADRE</td>\n",
       "      <td>Aries</td>\n",
       "      <td>Geminis</td>\n",
       "      <td>Aries, Geminis</td>\n",
       "      <td>0.85</td>\n",
       "    </tr>\n",
       "    <tr>\n",
       "      <th>4</th>\n",
       "      <td>1/2/07</td>\n",
       "      <td>Necesario</td>\n",
       "      <td>2070-12-13</td>\n",
       "      <td>36.0</td>\n",
       "      <td>EMPLEADO</td>\n",
       "      <td>1971-04-11</td>\n",
       "      <td>35.0</td>\n",
       "      <td>LABORES DOMESTICAS</td>\n",
       "      <td>16/8/91</td>\n",
       "      <td>15.0</td>\n",
       "      <td>2.0</td>\n",
       "      <td>MADRE</td>\n",
       "      <td>Sagitario</td>\n",
       "      <td>Aries</td>\n",
       "      <td>Sagitario, Aries</td>\n",
       "      <td>1.00</td>\n",
       "    </tr>\n",
       "  </tbody>\n",
       "</table>\n",
       "</div>"
      ],
      "text/plain": [
       "  Fecha de Registro       Tipo       DOB_H  Edad_H     Job_H       DOB_M  \\\n",
       "0            9/6/06  Necesario  1975-12-18    30.0    PINTOR  1983-08-01   \n",
       "1            1/2/05  Necesario  2055-02-22    49.0    MEDICO  2047-03-21   \n",
       "2            1/2/06  Necesario  1975-10-30    30.0    MEDICO  1978-10-13   \n",
       "3            1/2/06  Necesario  1973-03-28    32.0  EMPLEADO  1976-06-14   \n",
       "4            1/2/07  Necesario  2070-12-13    36.0  EMPLEADO  1971-04-11   \n",
       "\n",
       "   Edad_M               Job_M Fecha_Boda  Dur_Matrimonio  Num_Hijos Custodia  \\\n",
       "0    22.0            EMPLEADA    26/6/00             5.0        1.0      NaN   \n",
       "1    57.0            JUBILADA   18/12/75             NaN        NaN      NaN   \n",
       "2    27.0         AMA DE CASA   14/11/98             7.0        2.0    MADRE   \n",
       "3    29.0                 NaN    20/1/95            11.0        2.0    MADRE   \n",
       "4    35.0  LABORES DOMESTICAS    16/8/91            15.0        2.0    MADRE   \n",
       "\n",
       "    zodiac_H zodiac_M   Horoscope-Match  Compatibility-Rate  \n",
       "0  Sagitario      Leo    Sagitario, Leo                0.90  \n",
       "1     Piscis    Aries     Piscis, Aries                0.65  \n",
       "2    Scorpio    Libra    Scorpio, Libra                0.50  \n",
       "3      Aries  Geminis    Aries, Geminis                0.85  \n",
       "4  Sagitario    Aries  Sagitario, Aries                1.00  "
      ]
     },
     "execution_count": 6,
     "metadata": {},
     "output_type": "execute_result"
    }
   ],
   "source": [
    "df.head()"
   ]
  },
  {
   "cell_type": "code",
   "execution_count": 7,
   "id": "08b40215",
   "metadata": {},
   "outputs": [
    {
     "data": {
      "text/plain": [
       "0.6891518061271149"
      ]
     },
     "execution_count": 7,
     "metadata": {},
     "output_type": "execute_result"
    }
   ],
   "source": [
    "df['Compatibility-Rate'].mean()"
   ]
  },
  {
   "cell_type": "code",
   "execution_count": 8,
   "id": "5305d754",
   "metadata": {},
   "outputs": [
    {
     "data": {
      "text/plain": [
       "1.0"
      ]
     },
     "execution_count": 8,
     "metadata": {},
     "output_type": "execute_result"
    }
   ],
   "source": [
    "df['Compatibility-Rate'].max()"
   ]
  },
  {
   "cell_type": "code",
   "execution_count": 9,
   "id": "b77c186e",
   "metadata": {},
   "outputs": [
    {
     "data": {
      "text/plain": [
       "0.4"
      ]
     },
     "execution_count": 9,
     "metadata": {},
     "output_type": "execute_result"
    }
   ],
   "source": [
    "df['Compatibility-Rate'].min()"
   ]
  },
  {
   "cell_type": "code",
   "execution_count": 18,
   "id": "580bdc21",
   "metadata": {},
   "outputs": [
    {
     "data": {
      "text/plain": [
       "0.65"
      ]
     },
     "execution_count": 18,
     "metadata": {},
     "output_type": "execute_result"
    }
   ],
   "source": [
    "df['Compatibility-Rate'].median()"
   ]
  },
  {
   "cell_type": "code",
   "execution_count": 14,
   "id": "c4d76358",
   "metadata": {
    "scrolled": true
   },
   "outputs": [
    {
     "data": {
      "text/plain": [
       "Counter({0.9: 372,\n",
       "         0.65: 328,\n",
       "         0.5: 468,\n",
       "         0.85: 278,\n",
       "         1.0: 516,\n",
       "         0.55: 273,\n",
       "         0.75: 310,\n",
       "         0.4: 617,\n",
       "         0.6: 373,\n",
       "         0.45: 225,\n",
       "         0.95: 341,\n",
       "         0.7: 168,\n",
       "         0.8: 105})"
      ]
     },
     "execution_count": 14,
     "metadata": {},
     "output_type": "execute_result"
    }
   ],
   "source": [
    "Counter(df['Compatibility-Rate'])"
   ]
  },
  {
   "cell_type": "code",
   "execution_count": 10,
   "id": "59b88ae8",
   "metadata": {},
   "outputs": [
    {
     "data": {
      "text/html": [
       "<div>\n",
       "<style scoped>\n",
       "    .dataframe tbody tr th:only-of-type {\n",
       "        vertical-align: middle;\n",
       "    }\n",
       "\n",
       "    .dataframe tbody tr th {\n",
       "        vertical-align: top;\n",
       "    }\n",
       "\n",
       "    .dataframe thead th {\n",
       "        text-align: right;\n",
       "    }\n",
       "</style>\n",
       "<table border=\"1\" class=\"dataframe\">\n",
       "  <thead>\n",
       "    <tr style=\"text-align: right;\">\n",
       "      <th></th>\n",
       "      <th>Edad_H</th>\n",
       "      <th>Edad_M</th>\n",
       "      <th>Dur_Matrimonio</th>\n",
       "      <th>Num_Hijos</th>\n",
       "      <th>Compatibility-Rate</th>\n",
       "    </tr>\n",
       "  </thead>\n",
       "  <tbody>\n",
       "    <tr>\n",
       "      <th>Edad_H</th>\n",
       "      <td>1.000000</td>\n",
       "      <td>0.863724</td>\n",
       "      <td>0.711551</td>\n",
       "      <td>0.424193</td>\n",
       "      <td>-0.006696</td>\n",
       "    </tr>\n",
       "    <tr>\n",
       "      <th>Edad_M</th>\n",
       "      <td>0.863724</td>\n",
       "      <td>1.000000</td>\n",
       "      <td>0.751990</td>\n",
       "      <td>0.423639</td>\n",
       "      <td>0.000818</td>\n",
       "    </tr>\n",
       "    <tr>\n",
       "      <th>Dur_Matrimonio</th>\n",
       "      <td>0.711551</td>\n",
       "      <td>0.751990</td>\n",
       "      <td>1.000000</td>\n",
       "      <td>0.483044</td>\n",
       "      <td>-0.005203</td>\n",
       "    </tr>\n",
       "    <tr>\n",
       "      <th>Num_Hijos</th>\n",
       "      <td>0.424193</td>\n",
       "      <td>0.423639</td>\n",
       "      <td>0.483044</td>\n",
       "      <td>1.000000</td>\n",
       "      <td>0.022742</td>\n",
       "    </tr>\n",
       "    <tr>\n",
       "      <th>Compatibility-Rate</th>\n",
       "      <td>-0.006696</td>\n",
       "      <td>0.000818</td>\n",
       "      <td>-0.005203</td>\n",
       "      <td>0.022742</td>\n",
       "      <td>1.000000</td>\n",
       "    </tr>\n",
       "  </tbody>\n",
       "</table>\n",
       "</div>"
      ],
      "text/plain": [
       "                      Edad_H    Edad_M  Dur_Matrimonio  Num_Hijos  \\\n",
       "Edad_H              1.000000  0.863724        0.711551   0.424193   \n",
       "Edad_M              0.863724  1.000000        0.751990   0.423639   \n",
       "Dur_Matrimonio      0.711551  0.751990        1.000000   0.483044   \n",
       "Num_Hijos           0.424193  0.423639        0.483044   1.000000   \n",
       "Compatibility-Rate -0.006696  0.000818       -0.005203   0.022742   \n",
       "\n",
       "                    Compatibility-Rate  \n",
       "Edad_H                       -0.006696  \n",
       "Edad_M                        0.000818  \n",
       "Dur_Matrimonio               -0.005203  \n",
       "Num_Hijos                     0.022742  \n",
       "Compatibility-Rate            1.000000  "
      ]
     },
     "execution_count": 10,
     "metadata": {},
     "output_type": "execute_result"
    }
   ],
   "source": [
    "df.corr()"
   ]
  },
  {
   "cell_type": "code",
   "execution_count": 159,
   "id": "b5c695ad",
   "metadata": {},
   "outputs": [],
   "source": [
    "%%capture\n",
    "sns.pairplot(df);"
   ]
  },
  {
   "cell_type": "markdown",
   "id": "18bb4eeb",
   "metadata": {},
   "source": [
    "### First we take a look of the distribution of zodiac signs in the dataset"
   ]
  },
  {
   "cell_type": "code",
   "execution_count": 37,
   "id": "75b752ba",
   "metadata": {},
   "outputs": [
    {
     "data": {
      "text/plain": [
       "Counter({'Sagitario': 370,\n",
       "         'Piscis': 369,\n",
       "         'Scorpio': 373,\n",
       "         'Aries': 339,\n",
       "         'Acuario': 355,\n",
       "         'Virgo': 381,\n",
       "         'Cancer': 387,\n",
       "         'Leo': 349,\n",
       "         'Libra': 357,\n",
       "         'Tauro': 397,\n",
       "         'Geminis': 357,\n",
       "         'Capricornio': 340})"
      ]
     },
     "execution_count": 37,
     "metadata": {},
     "output_type": "execute_result"
    }
   ],
   "source": [
    "Counter(df['zodiac_H'])"
   ]
  },
  {
   "cell_type": "code",
   "execution_count": 35,
   "id": "fdb79f69",
   "metadata": {},
   "outputs": [
    {
     "data": {
      "text/plain": [
       "Counter({'Leo': 363,\n",
       "         'Aries': 383,\n",
       "         'Libra': 378,\n",
       "         'Geminis': 360,\n",
       "         'Virgo': 386,\n",
       "         'Piscis': 385,\n",
       "         'Acuario': 367,\n",
       "         'Tauro': 372,\n",
       "         'Scorpio': 367,\n",
       "         'Cancer': 344,\n",
       "         'Sagitario': 358,\n",
       "         'Capricornio': 311})"
      ]
     },
     "execution_count": 35,
     "metadata": {},
     "output_type": "execute_result"
    }
   ],
   "source": [
    "Counter(df['zodiac_M'])"
   ]
  },
  {
   "cell_type": "code",
   "execution_count": 127,
   "id": "6190e7cb",
   "metadata": {},
   "outputs": [],
   "source": [
    "#sns.countplot(x=df['zodiac_M'], hue=df['zodiac_H'], palette=\"Greens\", dodge=False, orient=\"V\")"
   ]
  },
  {
   "cell_type": "code",
   "execution_count": 128,
   "id": "c590ca37",
   "metadata": {},
   "outputs": [
    {
     "data": {
      "text/plain": [
       "<AxesSubplot:xlabel='zodiac_M', ylabel='count'>"
      ]
     },
     "execution_count": 128,
     "metadata": {},
     "output_type": "execute_result"
    },
    {
     "data": {
      "image/png": "[encoded data removed]",
      "text/plain": [
       "<Figure size 432x288 with 1 Axes>"
      ]
     },
     "metadata": {
      "needs_background": "light"
     },
     "output_type": "display_data"
    }
   ],
   "source": [
    "sns.countplot(x=df['zodiac_M'], linewidth=10)"
   ]
  },
  {
   "cell_type": "code",
   "execution_count": 129,
   "id": "be676f98",
   "metadata": {},
   "outputs": [
    {
     "data": {
      "text/plain": [
       "<AxesSubplot:xlabel='zodiac_H', ylabel='count'>"
      ]
     },
     "execution_count": 129,
     "metadata": {},
     "output_type": "execute_result"
    },
    {
     "data": {
      "image/png": "[encoded data removed]",
      "text/plain": [
       "<Figure size 432x288 with 1 Axes>"
      ]
     },
     "metadata": {
      "needs_background": "light"
     },
     "output_type": "display_data"
    }
   ],
   "source": [
    "sns.countplot(x=df['zodiac_H'], linewidth=10)"
   ]
  },
  {
   "cell_type": "markdown",
   "id": "81d51409",
   "metadata": {},
   "source": [
    "### We assign a level of compatibility to the rate percentages based on sample quantiles"
   ]
  },
  {
   "cell_type": "code",
   "execution_count": 20,
   "id": "0434dd47",
   "metadata": {},
   "outputs": [
    {
     "name": "stderr",
     "output_type": "stream",
     "text": [
      "/Users/isabelalantero/miniconda3/lib/python3.9/site-packages/seaborn/_decorators.py:36: FutureWarning: Pass the following variable as a keyword arg: x. From version 0.12, the only valid positional argument will be `data`, and passing other arguments without an explicit keyword will result in an error or misinterpretation.\n",
      "  warnings.warn(\n"
     ]
    },
    {
     "data": {
      "image/png": "[encoded data removed]",
      "text/plain": [
       "<Figure size 432x288 with 1 Axes>"
      ]
     },
     "metadata": {
      "needs_background": "light"
     },
     "output_type": "display_data"
    }
   ],
   "source": [
    "sns.boxplot(df['Compatibility-Rate']);"
   ]
  },
  {
   "cell_type": "code",
   "execution_count": 24,
   "id": "6d7b4b1b",
   "metadata": {},
   "outputs": [
    {
     "data": {
      "text/plain": [
       "count    4374.000000\n",
       "mean        0.689152\n",
       "std         0.208005\n",
       "min         0.400000\n",
       "25%         0.500000\n",
       "50%         0.650000\n",
       "75%         0.900000\n",
       "max         1.000000\n",
       "Name: Compatibility-Rate, dtype: float64"
      ]
     },
     "execution_count": 24,
     "metadata": {},
     "output_type": "execute_result"
    }
   ],
   "source": [
    "df['Compatibility-Rate'].describe()"
   ]
  },
  {
   "cell_type": "markdown",
   "id": "4a13785a",
   "metadata": {},
   "source": [
    "We will be using quantil 0.50 where the sample is divided into 2 equal sized distributions (equal probabilities) == the median being the center"
   ]
  },
  {
   "cell_type": "markdown",
   "id": "7fb00906",
   "metadata": {},
   "source": [
    "* High compatibility for rates > 0.65\n",
    "* Low compatibility for rates < 0.65  \n",
    "  \n",
    "Using pandas' qcut function (Quantile-Based Discretization):"
   ]
  },
  {
   "cell_type": "code",
   "execution_count": 21,
   "id": "c9a4332c",
   "metadata": {},
   "outputs": [],
   "source": [
    "df['Compatibility'] = pd.qcut(df['Compatibility-Rate'], \n",
    "                                       q= [0, .5, 1],\n",
    "                              labels=['Low', 'High'])"
   ]
  },
  {
   "cell_type": "code",
   "execution_count": 57,
   "id": "0e7a6dab",
   "metadata": {},
   "outputs": [
    {
     "data": {
      "text/plain": [
       "Counter({'High': 2090, 'Low': 2284})"
      ]
     },
     "execution_count": 57,
     "metadata": {},
     "output_type": "execute_result"
    }
   ],
   "source": [
    "Counter(df['Compatibility'])"
   ]
  },
  {
   "cell_type": "code",
   "execution_count": 76,
   "id": "c789965a",
   "metadata": {},
   "outputs": [
    {
     "data": {
      "image/png": "[encoded data removed]",
      "text/plain": [
       "<Figure size 432x288 with 1 Axes>"
      ]
     },
     "metadata": {},
     "output_type": "display_data"
    }
   ],
   "source": [
    "# yes, it's a pie chart.\n",
    "\n",
    "pie = [2090, 2284]\n",
    "\n",
    "plt.pie(pie, \n",
    "        labels = ['High', 'Low'], \n",
    "        shadow = True,\n",
    "       colors = ['g', 'y'],\n",
    "       radius=1.5,\n",
    "       autopct='%1.1f%%')\n",
    "plt.show() "
   ]
  },
  {
   "cell_type": "markdown",
   "id": "8e77dd48",
   "metadata": {},
   "source": [
    "The degree of similarity between high and low sign-compatibility of these couples is surprising.  \n",
    "\n",
    "If astrology could truly predict/determine the success/failure of marriages, one would assume that the great majority of divorced couples would make a 'bad fit'.   \n",
    "  \n",
    "Contreraly, the is very little difference between the compatibilities, wich leads us to doubt the real life application of the horoscope predictions."
   ]
  },
  {
   "cell_type": "markdown",
   "id": "dd015fcf",
   "metadata": {},
   "source": [
    "Anyways, for the sake of knoledge, lest's find out the reason behind a lower compatibility."
   ]
  },
  {
   "cell_type": "code",
   "execution_count": 139,
   "id": "b5870a59",
   "metadata": {},
   "outputs": [],
   "source": [
    "no_compatibles = df[df['Compatibility-Rate']<0.65]"
   ]
  },
  {
   "cell_type": "code",
   "execution_count": 148,
   "id": "2bd8c3db",
   "metadata": {},
   "outputs": [
    {
     "data": {
      "text/plain": [
       "[('Tauro, Geminis', 42), ('Cancer, Acuario', 40), ('Scorpio, Libra', 38)]"
      ]
     },
     "execution_count": 148,
     "metadata": {},
     "output_type": "execute_result"
    }
   ],
   "source": [
    "Counter(no_compatibles['Horoscope-Match']).most_common(3)"
   ]
  },
  {
   "cell_type": "markdown",
   "id": "4f6d5ca6",
   "metadata": {},
   "source": [
    "The three combinations above have only got a 0.4, 0.4 and 0.5 compatibility rate respectively, or should we say chances of success."
   ]
  },
  {
   "cell_type": "markdown",
   "id": "cd600556",
   "metadata": {},
   "source": [
    "### Compatibility rate según edades"
   ]
  },
  {
   "cell_type": "markdown",
   "id": "1bfb5828",
   "metadata": {},
   "source": [
    "Las edades por genero, en las que ha habido compatibilidad más alta"
   ]
  },
  {
   "cell_type": "code",
   "execution_count": 90,
   "id": "a9694954",
   "metadata": {},
   "outputs": [],
   "source": [
    "edades_compatibles = df[df['Compatibility-Rate']>0.65]"
   ]
  },
  {
   "cell_type": "code",
   "execution_count": 92,
   "id": "4508432c",
   "metadata": {},
   "outputs": [
    {
     "data": {
      "text/plain": [
       "38.86937799043062"
      ]
     },
     "execution_count": 92,
     "metadata": {},
     "output_type": "execute_result"
    }
   ],
   "source": [
    "edades_compatibles['Edad_H'].mean()"
   ]
  },
  {
   "cell_type": "code",
   "execution_count": 93,
   "id": "ec8ed378",
   "metadata": {},
   "outputs": [
    {
     "data": {
      "text/plain": [
       "36.60459550023935"
      ]
     },
     "execution_count": 93,
     "metadata": {},
     "output_type": "execute_result"
    }
   ],
   "source": [
    "edades_compatibles['Edad_M'].mean()"
   ]
  },
  {
   "cell_type": "code",
   "execution_count": 162,
   "id": "e71b1683",
   "metadata": {},
   "outputs": [
    {
     "data": {
      "text/plain": [
       "<AxesSubplot:ylabel='Frequency'>"
      ]
     },
     "execution_count": 162,
     "metadata": {},
     "output_type": "execute_result"
    },
    {
     "data": {
      "image/png": "[encoded data removed]",
      "text/plain": [
       "<Figure size 432x288 with 1 Axes>"
      ]
     },
     "metadata": {
      "needs_background": "light"
     },
     "output_type": "display_data"
    }
   ],
   "source": [
    "# histogram of ages of the partners divorced\n",
    "df.Edad_H.plot(kind='hist')\n",
    "df.Edad_M.plot(kind='hist')"
   ]
  },
  {
   "cell_type": "markdown",
   "id": "2e862be3",
   "metadata": {},
   "source": [
    "### Study of the number of children the couples had: is it more determining than astrology?"
   ]
  },
  {
   "cell_type": "markdown",
   "id": "86e8e294",
   "metadata": {},
   "source": [
    "Let's look at other variables like 'Num_Hijos'"
   ]
  },
  {
   "cell_type": "code",
   "execution_count": 143,
   "id": "301063c9",
   "metadata": {},
   "outputs": [
    {
     "data": {
      "text/plain": [
       "<seaborn.axisgrid.JointGrid at 0x7fc475825bb0>"
      ]
     },
     "execution_count": 143,
     "metadata": {},
     "output_type": "execute_result"
    },
    {
     "data": {
      "image/png": "[encoded data removed]",
      "text/plain": [
       "<Figure size 432x432 with 3 Axes>"
      ]
     },
     "metadata": {
      "needs_background": "light"
     },
     "output_type": "display_data"
    }
   ],
   "source": [
    "sns.jointplot(data=df,\n",
    "              x=\"Dur_Matrimonio\",\n",
    "              y=\"Num_Hijos\")"
   ]
  },
  {
   "cell_type": "code",
   "execution_count": 160,
   "id": "2569b8c8",
   "metadata": {},
   "outputs": [
    {
     "data": {
      "text/plain": [
       "<AxesSubplot:xlabel='Num_Hijos', ylabel='Dur_Matrimonio'>"
      ]
     },
     "execution_count": 160,
     "metadata": {},
     "output_type": "execute_result"
    },
    {
     "data": {
      "image/png": "[encoded data removed]",
      "text/plain": [
       "<Figure size 432x288 with 1 Axes>"
      ]
     },
     "metadata": {
      "needs_background": "light"
     },
     "output_type": "display_data"
    }
   ],
   "source": [
    "sns.regplot(x=df.Num_Hijos, y=df.Dur_Matrimonio)"
   ]
  },
  {
   "cell_type": "code",
   "execution_count": 155,
   "id": "25ccd948",
   "metadata": {},
   "outputs": [],
   "source": [
    "results=smf.ols('Num_Hijos ~ Dur_Matrimonio', data=df).fit()"
   ]
  },
  {
   "cell_type": "code",
   "execution_count": 161,
   "id": "7d38dad1",
   "metadata": {
    "scrolled": false
   },
   "outputs": [
    {
     "data": {
      "text/html": [
       "<table class=\"simpletable\">\n",
       "<caption>OLS Regression Results</caption>\n",
       "<tr>\n",
       "  <th>Dep. Variable:</th>        <td>Num_Hijos</td>    <th>  R-squared:         </th> <td>   0.233</td> \n",
       "</tr>\n",
       "<tr>\n",
       "  <th>Model:</th>                   <td>OLS</td>       <th>  Adj. R-squared:    </th> <td>   0.233</td> \n",
       "</tr>\n",
       "<tr>\n",
       "  <th>Method:</th>             <td>Least Squares</td>  <th>  F-statistic:       </th> <td>   818.7</td> \n",
       "</tr>\n",
       "<tr>\n",
       "  <th>Date:</th>             <td>Sat, 29 May 2021</td> <th>  Prob (F-statistic):</th> <td>2.00e-157</td>\n",
       "</tr>\n",
       "<tr>\n",
       "  <th>Time:</th>                 <td>08:34:57</td>     <th>  Log-Likelihood:    </th> <td> -3210.2</td> \n",
       "</tr>\n",
       "<tr>\n",
       "  <th>No. Observations:</th>      <td>  2692</td>      <th>  AIC:               </th> <td>   6424.</td> \n",
       "</tr>\n",
       "<tr>\n",
       "  <th>Df Residuals:</th>          <td>  2690</td>      <th>  BIC:               </th> <td>   6436.</td> \n",
       "</tr>\n",
       "<tr>\n",
       "  <th>Df Model:</th>              <td>     1</td>      <th>                     </th>     <td> </td>    \n",
       "</tr>\n",
       "<tr>\n",
       "  <th>Covariance Type:</th>      <td>nonrobust</td>    <th>                     </th>     <td> </td>    \n",
       "</tr>\n",
       "</table>\n",
       "<table class=\"simpletable\">\n",
       "<tr>\n",
       "         <td></td>           <th>coef</th>     <th>std err</th>      <th>t</th>      <th>P>|t|</th>  <th>[0.025</th>    <th>0.975]</th>  \n",
       "</tr>\n",
       "<tr>\n",
       "  <th>Intercept</th>      <td>    1.1245</td> <td>    0.028</td> <td>   39.906</td> <td> 0.000</td> <td>    1.069</td> <td>    1.180</td>\n",
       "</tr>\n",
       "<tr>\n",
       "  <th>Dur_Matrimonio</th> <td>    0.0488</td> <td>    0.002</td> <td>   28.613</td> <td> 0.000</td> <td>    0.045</td> <td>    0.052</td>\n",
       "</tr>\n",
       "</table>\n",
       "<table class=\"simpletable\">\n",
       "<tr>\n",
       "  <th>Omnibus:</th>       <td>1242.593</td> <th>  Durbin-Watson:     </th> <td>   2.000</td> \n",
       "</tr>\n",
       "<tr>\n",
       "  <th>Prob(Omnibus):</th>  <td> 0.000</td>  <th>  Jarque-Bera (JB):  </th> <td>15896.682</td>\n",
       "</tr>\n",
       "<tr>\n",
       "  <th>Skew:</th>           <td> 1.845</td>  <th>  Prob(JB):          </th> <td>    0.00</td> \n",
       "</tr>\n",
       "<tr>\n",
       "  <th>Kurtosis:</th>       <td>14.318</td>  <th>  Cond. No.          </th> <td>    30.4</td> \n",
       "</tr>\n",
       "</table><br/><br/>Notes:<br/>[1] Standard Errors assume that the covariance matrix of the errors is correctly specified."
      ],
      "text/plain": [
       "<class 'statsmodels.iolib.summary.Summary'>\n",
       "\"\"\"\n",
       "                            OLS Regression Results                            \n",
       "==============================================================================\n",
       "Dep. Variable:              Num_Hijos   R-squared:                       0.233\n",
       "Model:                            OLS   Adj. R-squared:                  0.233\n",
       "Method:                 Least Squares   F-statistic:                     818.7\n",
       "Date:                Sat, 29 May 2021   Prob (F-statistic):          2.00e-157\n",
       "Time:                        08:34:57   Log-Likelihood:                -3210.2\n",
       "No. Observations:                2692   AIC:                             6424.\n",
       "Df Residuals:                    2690   BIC:                             6436.\n",
       "Df Model:                           1                                         \n",
       "Covariance Type:            nonrobust                                         \n",
       "==================================================================================\n",
       "                     coef    std err          t      P>|t|      [0.025      0.975]\n",
       "----------------------------------------------------------------------------------\n",
       "Intercept          1.1245      0.028     39.906      0.000       1.069       1.180\n",
       "Dur_Matrimonio     0.0488      0.002     28.613      0.000       0.045       0.052\n",
       "==============================================================================\n",
       "Omnibus:                     1242.593   Durbin-Watson:                   2.000\n",
       "Prob(Omnibus):                  0.000   Jarque-Bera (JB):            15896.682\n",
       "Skew:                           1.845   Prob(JB):                         0.00\n",
       "Kurtosis:                      14.318   Cond. No.                         30.4\n",
       "==============================================================================\n",
       "\n",
       "Notes:\n",
       "[1] Standard Errors assume that the covariance matrix of the errors is correctly specified.\n",
       "\"\"\""
      ]
     },
     "execution_count": 161,
     "metadata": {},
     "output_type": "execute_result"
    }
   ],
   "source": [
    "results.summary()"
   ]
  },
  {
   "cell_type": "code",
   "execution_count": null,
   "id": "9069e89f",
   "metadata": {},
   "outputs": [],
   "source": [
    "# P>|t| es mas pequeño que 0.05 entonces sí es significativa y aporta info útil al modelo\n",
    "# R-squared de 0.23 demuestra que la variable hijos es capaz de realizar un cierto predicho"
   ]
  },
  {
   "cell_type": "markdown",
   "id": "dc0b4746",
   "metadata": {},
   "source": [
    "# CONCLUSIONES\n",
    "* Los matrimonios divorciados son a partes iguales compatibles/no compatibles desde el punto de vista de la astrología\n",
    "* Eso significa que signo del zodiaco y compatibilidad del matrimonio no están relacionados\n",
    "* Meetic, por muy violento que pueda parecer, podría preguntar de primeras a sus solteros el número de hijos que querrían tener y seguramente tendría más exito haciendo de cupido que preguntando por el signo del zodiaco"
   ]
  }
 ],
 "metadata": {
  "kernelspec": {
   "display_name": "Python 3",
   "language": "python",
   "name": "python3"
  },
  "language_info": {
   "codemirror_mode": {
    "name": "ipython",
    "version": 3
   },
   "file_extension": ".py",
   "mimetype": "text/x-python",
   "name": "python",
   "nbconvert_exporter": "python",
   "pygments_lexer": "ipython3",
   "version": "3.9.1"
  }
 },
 "nbformat": 4,
 "nbformat_minor": 5
}
